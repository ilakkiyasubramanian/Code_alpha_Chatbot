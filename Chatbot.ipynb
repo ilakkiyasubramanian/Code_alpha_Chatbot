{
 "cells": [
  {
   "cell_type": "code",
   "execution_count": 2,
   "id": "c9fdc1fd",
   "metadata": {},
   "outputs": [
    {
     "name": "stdout",
     "output_type": "stream",
     "text": [
      "Welcome to the Chatbot! Type 'quit' to exit.\n",
      "You: who is my favourite hero?\n",
      "Chatbot: Your favorite hero is Vijay.\n",
      "You:  what is biryani recipe?\n",
      "Chatbot: For a delicious biryani, marinate meat with spices, layer with rice, and cook until tender.\n",
      "You: quit\n",
      "Chatbot: Take care!\n"
     ]
    }
   ],
   "source": [
    "import random\n",
    "import nltk\n",
    "from nltk.chat.util import Chat, reflections\n",
    "\n",
    "# Define pairs of patterns and responses\n",
    "pairs = [\n",
    "    [\"hi|hello|hey\", [\"Hello!\", \"Hey there!\", \"Hi!\"]],\n",
    "    [\"how are you?\", [\"I'm doing well, thank you!\", \"I'm good, thanks for asking.\"]],\n",
    "    [\"what's your name?\", [\"I'm a chatbot.\", \"You can call me Chatbot.\"]],\n",
    "    [\"do you know who am i?\", [\"You are my AI.\", \"Yes, you are my Boss.\"]],\n",
    "    [\"what is half boil recipe?\", [\"To make half boiled eggs, simply place eggs in boiling water for about 5-7 minutes.\"]],\n",
    "    [\" what is biryani recipe?\", [\"For a delicious biryani, marinate meat with spices, layer with rice, and cook until tender.\"]],\n",
    "    [\"what is my favorite color?\", [\"Your favorite color is Grey.\"]],\n",
    "    [\"who is my favourite hero?\", [\"Your favorite hero is Vijay.\"]],\n",
    "    [\"who is my favourite heroine?\", [\"Your favorite heroine is Mrunal Thakur.\"]],\n",
    "    [\"who is the cm of tamil nadu?\", [\"The current Chief Minister of Tamil Nadu is M. K. Stalin.\"]],\n",
    "    [\"what is thalapathy 68 update?\", [\"I'm sorry, I couldn't find the latest update for Thalapathy 68.\"]],\n",
    "    [\"quit\", [\"Bye!\", \"Goodbye!\", \"Take care!\"]],\n",
    "]\n",
    "\n",
    "# Create a Chatbot using NLTK's Chat class\n",
    "chatbot = Chat(pairs, reflections)\n",
    "\n",
    "# Start the conversation\n",
    "print(\"Welcome to the Chatbot! Type 'quit' to exit.\")\n",
    "while True:\n",
    "    user_input = input(\"You: \").lower()\n",
    "    response = chatbot.respond(user_input)\n",
    "    print(\"Chatbot:\", response)\n",
    "    if user_input == 'quit':\n",
    "        break"
   ]
  },
  {
   "cell_type": "code",
   "execution_count": null,
   "id": "dfbfa5f6",
   "metadata": {},
   "outputs": [],
   "source": []
  }
 ],
 "metadata": {
  "kernelspec": {
   "display_name": "Python 3 (ipykernel)",
   "language": "python",
   "name": "python3"
  },
  "language_info": {
   "codemirror_mode": {
    "name": "ipython",
    "version": 3
   },
   "file_extension": ".py",
   "mimetype": "text/x-python",
   "name": "python",
   "nbconvert_exporter": "python",
   "pygments_lexer": "ipython3",
   "version": "3.11.5"
  }
 },
 "nbformat": 4,
 "nbformat_minor": 5
}
